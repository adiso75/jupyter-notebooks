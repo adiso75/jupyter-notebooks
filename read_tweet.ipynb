{
 "cells": [
  {
   "cell_type": "markdown",
   "metadata": {},
   "source": [
    "# Example: Ingest Data and Sentiments From A Twitter Feed into iguazio Stream & Time-Series DB "
   ]
  },
  {
   "cell_type": "markdown",
   "metadata": {},
   "source": [
    "## Initialization \n",
    "install packages and set environment"
   ]
  },
  {
   "cell_type": "code",
   "execution_count": null,
   "metadata": {},
   "outputs": [],
   "source": [
    "!pip install textblob\n",
    "!pip install twython"
   ]
  },
  {
   "cell_type": "code",
   "execution_count": null,
   "metadata": {},
   "outputs": [],
   "source": [
    "# iguazio DB path & credentials \n",
    "%env V3IO_PASSWORD <V3IO-Password>\n",
    "%env V3IO_USER <V3IO-Username>\n",
    "%env V3IO_ADDRESS <address of V3IO API end point>\n",
    "\n",
    "# Twitter credentials, fill with your App credentials\n",
    "%env app_key=<..>\n",
    "%env app_secret=<..>  \n",
    "%env oauth_token=<..> \n",
    "%env oauth_token_secret=<..>"
   ]
  },
  {
   "cell_type": "markdown",
   "metadata": {},
   "source": [
    "### Twitter stream handling class"
   ]
  },
  {
   "cell_type": "code",
   "execution_count": 36,
   "metadata": {},
   "outputs": [],
   "source": [
    "from twython import TwythonStreamer\n",
    "\n",
    "# Twitter stream handler  \n",
    "class MyStreamer(TwythonStreamer):\n",
    "    def __init__(self, name, **kw):\n",
    "        self.name = name\n",
    "        TwythonStreamer.__init__(self, **kw)\n",
    "        \n",
    "    def start(self, cb, limit=10, **kw):\n",
    "        self.cb = cb\n",
    "        self.limit = limit\n",
    "        self.statuses.filter(**kw)\n",
    "        \n",
    "    def on_success(self, data):\n",
    "        if 'text' in data:\n",
    "            record = {'text': data['text'], \n",
    "                      'user': '@'+data['user']['screen_name'],\n",
    "                      'id': data['id'],\n",
    "                      'created_at':data['created_at'],\n",
    "                     }\n",
    "            if self.cb:\n",
    "                self.cb(self.name, record)\n",
    "                \n",
    "        self.limit -= 1 \n",
    "        if self.limit <= 0 :\n",
    "            self.disconnect()\n",
    "\n",
    "    def on_error(self, status_code, data):\n",
    "        print(status_code)\n",
    "\n",
    "        # Want to stop trying to get data because of the error?\n",
    "        # Uncomment the next line!\n",
    "        # self.disconnect()\n",
    "        \n",
    "  "
   ]
  },
  {
   "cell_type": "markdown",
   "metadata": {},
   "source": [
    "### Our event handler (executes every time there is a valid tweet)"
   ]
  },
  {
   "cell_type": "code",
   "execution_count": 37,
   "metadata": {},
   "outputs": [],
   "source": [
    "import json\n",
    "import re\n",
    "\n",
    "def process_event(name, record):\n",
    "        clean = ' '.join(re.sub(\"(@[A-Za-z0-9]+)|([^0-9A-Za-z \\t])|(\\w+:\\/\\/\\S+)\", \" \", record['text']).split())\n",
    "        \n",
    "        # enrich the record with natural language metadata\n",
    "        blob = TextBlob(clean)\n",
    "        record['cleaned'] = clean\n",
    "        record['polarity'] = blob.sentiment.polarity\n",
    "        record['subjectivity'] = blob.sentiment.subjectivity\n",
    "\n",
    "        # Write the record into a straem and Time-series DB\n",
    "        print(name, json.dumps(record))\n",
    "        resp = v3.putrecords('mystream', [json.dumps(record)])\n",
    "        print(resp.text)\n",
    "        \n",
    "        # Todo TSDB"
   ]
  },
  {
   "cell_type": "markdown",
   "metadata": {},
   "source": [
    "### Main code section"
   ]
  },
  {
   "cell_type": "code",
   "execution_count": 38,
   "metadata": {},
   "outputs": [
    {
     "name": "stdout",
     "output_type": "stream",
     "text": [
      "{\"text\": \"@Google @googlechrome can you explain why nothing I do turns safe search off? https://t.co/GtfEUZT6CD\", \"cleaned\": \"can you explain why nothing I do turns safe search off\", \"user\": \"@ashleigh_guynn\", \"id\": 1050489695921233921, \"created_at\": \"Thu Oct 11 20:53:55 +0000 2018\", \"polarity\": 0.5, \"subjectivity\": 0.5}\n",
      "{ \"FailedRecordCount\":0,\"Records\": [{ \"SequenceNumber\":27,\"ShardId\":0 } ] }\n",
      "{\"text\": \"RT @AMJones7: Wow! @Google's free Applied Digital Skills curriculum includes more than 120 hours of lessons to help teachers of any subject\\u2026\", \"cleaned\": \"RT Wow s free Applied Digital Skills curriculum includes more than 120 hours of lessons to help teachers of any subject\", \"user\": \"@_bradfischer\", \"id\": 1050489812883517440, \"created_at\": \"Thu Oct 11 20:54:23 +0000 2018\", \"polarity\": 0.16666666666666669, \"subjectivity\": 0.5266666666666666}\n",
      "{ \"FailedRecordCount\":0,\"Records\": [{ \"SequenceNumber\":28,\"ShardId\":0 } ] }\n"
     ]
    }
   ],
   "source": [
    "import v3io\n",
    "import os\n",
    "oauth = credsfromfile()\n",
    "\n",
    "oauth = {\n",
    "    'app_key' : os.getenv('app_key'),\n",
    "    'app_secret' : os.getenv('app_secret'),  \n",
    "    'oauth_token' : os.getenv('oauth_token'), \n",
    "    'oauth_token_secret' : os.getenv('oauth_token_secret'),\n",
    "}\n",
    "\n",
    "stream = MyStreamer('GOOG', **oauth)\n",
    "v3 = v3io.v3io(os.getenv('V3IO_ADDRESS'),os.getenv('V3IO_USER'),os.getenv('V3IO_PASSWORD'), 'bigdata')\n",
    "stream.start(process_event, 2, track='@Google', lang='en')"
   ]
  },
  {
   "cell_type": "code",
   "execution_count": null,
   "metadata": {},
   "outputs": [],
   "source": []
  }
 ],
 "metadata": {
  "kernelspec": {
   "display_name": "Python 3",
   "language": "python",
   "name": "python3"
  },
  "language_info": {
   "codemirror_mode": {
    "name": "ipython",
    "version": 3
   },
   "file_extension": ".py",
   "mimetype": "text/x-python",
   "name": "python",
   "nbconvert_exporter": "python",
   "pygments_lexer": "ipython3",
   "version": "3.6.5"
  },
  "toc-autonumbering": false
 },
 "nbformat": 4,
 "nbformat_minor": 2
}
