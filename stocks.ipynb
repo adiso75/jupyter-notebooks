{
 "cells": [
  {
   "cell_type": "markdown",
   "metadata": {},
   "source": [
    "# Time Series Playground\n",
    "Read and analyze time-series data over iguazio data platform \n",
    "\n",
    "### Step1: Load Requiered Libraries"
   ]
  },
  {
   "cell_type": "code",
   "execution_count": 1,
   "metadata": {},
   "outputs": [],
   "source": [
    "import numpy as np\n",
    "import pandas as pd\n",
    "import time, datetime"
   ]
  },
  {
   "cell_type": "code",
   "execution_count": null,
   "metadata": {},
   "outputs": [],
   "source": [
    "!pip install pandas-datareader"
   ]
  },
  {
   "cell_type": "code",
   "execution_count": 7,
   "metadata": {},
   "outputs": [
    {
     "name": "stdout",
     "output_type": "stream",
     "text": [
      "<class 'pandas.core.frame.DataFrame'>\n",
      "DatetimeIndex: 12 entries, 2013-01-02 to 2013-01-17\n",
      "Data columns (total 12 columns):\n",
      "(High, AAPL)         12 non-null float64\n",
      "(High, MSFT)         12 non-null float64\n",
      "(Low, AAPL)          12 non-null float64\n",
      "(Low, MSFT)          12 non-null float64\n",
      "(Open, AAPL)         12 non-null float64\n",
      "(Open, MSFT)         12 non-null float64\n",
      "(Close, AAPL)        12 non-null float64\n",
      "(Close, MSFT)        12 non-null float64\n",
      "(Volume, AAPL)       12 non-null int64\n",
      "(Volume, MSFT)       12 non-null int64\n",
      "(Adj Close, AAPL)    12 non-null float64\n",
      "(Adj Close, MSFT)    12 non-null float64\n",
      "dtypes: float64(10), int64(2)\n",
      "memory usage: 1.2 KB\n"
     ]
    },
    {
     "data": {
      "text/html": [
       "<div>\n",
       "<style scoped>\n",
       "    .dataframe tbody tr th:only-of-type {\n",
       "        vertical-align: middle;\n",
       "    }\n",
       "\n",
       "    .dataframe tbody tr th {\n",
       "        vertical-align: top;\n",
       "    }\n",
       "\n",
       "    .dataframe thead tr th {\n",
       "        text-align: left;\n",
       "    }\n",
       "\n",
       "    .dataframe thead tr:last-of-type th {\n",
       "        text-align: right;\n",
       "    }\n",
       "</style>\n",
       "<table border=\"1\" class=\"dataframe\">\n",
       "  <thead>\n",
       "    <tr>\n",
       "      <th>Attributes</th>\n",
       "      <th colspan=\"2\" halign=\"left\">High</th>\n",
       "      <th colspan=\"2\" halign=\"left\">Low</th>\n",
       "      <th colspan=\"2\" halign=\"left\">Open</th>\n",
       "      <th colspan=\"2\" halign=\"left\">Close</th>\n",
       "      <th colspan=\"2\" halign=\"left\">Volume</th>\n",
       "      <th colspan=\"2\" halign=\"left\">Adj Close</th>\n",
       "    </tr>\n",
       "    <tr>\n",
       "      <th>Symbols</th>\n",
       "      <th>AAPL</th>\n",
       "      <th>MSFT</th>\n",
       "      <th>AAPL</th>\n",
       "      <th>MSFT</th>\n",
       "      <th>AAPL</th>\n",
       "      <th>MSFT</th>\n",
       "      <th>AAPL</th>\n",
       "      <th>MSFT</th>\n",
       "      <th>AAPL</th>\n",
       "      <th>MSFT</th>\n",
       "      <th>AAPL</th>\n",
       "      <th>MSFT</th>\n",
       "    </tr>\n",
       "    <tr>\n",
       "      <th>Date</th>\n",
       "      <th></th>\n",
       "      <th></th>\n",
       "      <th></th>\n",
       "      <th></th>\n",
       "      <th></th>\n",
       "      <th></th>\n",
       "      <th></th>\n",
       "      <th></th>\n",
       "      <th></th>\n",
       "      <th></th>\n",
       "      <th></th>\n",
       "      <th></th>\n",
       "    </tr>\n",
       "  </thead>\n",
       "  <tbody>\n",
       "    <tr>\n",
       "      <th>2013-01-02</th>\n",
       "      <td>79.285713</td>\n",
       "      <td>27.730000</td>\n",
       "      <td>77.375717</td>\n",
       "      <td>27.150000</td>\n",
       "      <td>79.117142</td>\n",
       "      <td>27.250000</td>\n",
       "      <td>78.432854</td>\n",
       "      <td>27.620001</td>\n",
       "      <td>140129500</td>\n",
       "      <td>52899300</td>\n",
       "      <td>70.128860</td>\n",
       "      <td>23.875433</td>\n",
       "    </tr>\n",
       "    <tr>\n",
       "      <th>2013-01-03</th>\n",
       "      <td>78.524284</td>\n",
       "      <td>27.650000</td>\n",
       "      <td>77.285713</td>\n",
       "      <td>27.160000</td>\n",
       "      <td>78.268570</td>\n",
       "      <td>27.629999</td>\n",
       "      <td>77.442856</td>\n",
       "      <td>27.250000</td>\n",
       "      <td>88241300</td>\n",
       "      <td>48294400</td>\n",
       "      <td>69.243675</td>\n",
       "      <td>23.555593</td>\n",
       "    </tr>\n",
       "    <tr>\n",
       "      <th>2013-01-04</th>\n",
       "      <td>76.947144</td>\n",
       "      <td>27.340000</td>\n",
       "      <td>75.118568</td>\n",
       "      <td>26.730000</td>\n",
       "      <td>76.709999</td>\n",
       "      <td>27.270000</td>\n",
       "      <td>75.285713</td>\n",
       "      <td>26.740000</td>\n",
       "      <td>148583400</td>\n",
       "      <td>52521100</td>\n",
       "      <td>67.314934</td>\n",
       "      <td>23.114735</td>\n",
       "    </tr>\n",
       "    <tr>\n",
       "      <th>2013-01-07</th>\n",
       "      <td>75.614288</td>\n",
       "      <td>26.879999</td>\n",
       "      <td>73.599998</td>\n",
       "      <td>26.639999</td>\n",
       "      <td>74.571426</td>\n",
       "      <td>26.770000</td>\n",
       "      <td>74.842857</td>\n",
       "      <td>26.690001</td>\n",
       "      <td>121039100</td>\n",
       "      <td>37110400</td>\n",
       "      <td>66.918953</td>\n",
       "      <td>23.071518</td>\n",
       "    </tr>\n",
       "    <tr>\n",
       "      <th>2013-01-08</th>\n",
       "      <td>75.984283</td>\n",
       "      <td>26.790001</td>\n",
       "      <td>74.464287</td>\n",
       "      <td>26.459999</td>\n",
       "      <td>75.601425</td>\n",
       "      <td>26.750000</td>\n",
       "      <td>75.044289</td>\n",
       "      <td>26.549999</td>\n",
       "      <td>114676800</td>\n",
       "      <td>44703100</td>\n",
       "      <td>67.099052</td>\n",
       "      <td>22.950497</td>\n",
       "    </tr>\n",
       "  </tbody>\n",
       "</table>\n",
       "</div>"
      ],
      "text/plain": [
       "Attributes       High                   Low                  Open             \\\n",
       "Symbols          AAPL       MSFT       AAPL       MSFT       AAPL       MSFT   \n",
       "Date                                                                           \n",
       "2013-01-02  79.285713  27.730000  77.375717  27.150000  79.117142  27.250000   \n",
       "2013-01-03  78.524284  27.650000  77.285713  27.160000  78.268570  27.629999   \n",
       "2013-01-04  76.947144  27.340000  75.118568  26.730000  76.709999  27.270000   \n",
       "2013-01-07  75.614288  26.879999  73.599998  26.639999  74.571426  26.770000   \n",
       "2013-01-08  75.984283  26.790001  74.464287  26.459999  75.601425  26.750000   \n",
       "\n",
       "Attributes      Close                Volume            Adj Close             \n",
       "Symbols          AAPL       MSFT       AAPL      MSFT       AAPL       MSFT  \n",
       "Date                                                                         \n",
       "2013-01-02  78.432854  27.620001  140129500  52899300  70.128860  23.875433  \n",
       "2013-01-03  77.442856  27.250000   88241300  48294400  69.243675  23.555593  \n",
       "2013-01-04  75.285713  26.740000  148583400  52521100  67.314934  23.114735  \n",
       "2013-01-07  74.842857  26.690001  121039100  37110400  66.918953  23.071518  \n",
       "2013-01-08  75.044289  26.549999  114676800  44703100  67.099052  22.950497  "
      ]
     },
     "execution_count": 7,
     "metadata": {},
     "output_type": "execute_result"
    }
   ],
   "source": [
    "from pandas_datareader import data\n",
    "import datetime\n",
    "start = datetime.datetime(2013, 1, 1)\n",
    "end = datetime.datetime(2013, 1, 17)\n",
    "stocks = data.DataReader([\"MSFT\",\"AAPL\"], 'yahoo', start, end)\n",
    "stocks.info()\n",
    "stocks.head()"
   ]
  },
  {
   "cell_type": "markdown",
   "metadata": {},
   "source": []
  },
  {
   "cell_type": "code",
   "execution_count": 8,
   "metadata": {},
   "outputs": [
    {
     "data": {
      "text/plain": [
       "<matplotlib.axes._subplots.AxesSubplot at 0x7fb5f50d65f8>"
      ]
     },
     "execution_count": 8,
     "metadata": {},
     "output_type": "execute_result"
    },
    {
     "data": {
      "image/png": "[encoded data removed]",
      "text/plain": [
       "<Figure size 432x288 with 1 Axes>"
      ]
     },
     "metadata": {},
     "output_type": "display_data"
    }
   ],
   "source": [
    "%matplotlib inline\n",
    "import matplotlib.pyplot as plt\n",
    "stocks[\"Open\"].plot()"
   ]
  },
  {
   "cell_type": "markdown",
   "metadata": {},
   "source": [
    "### Step 2: Read the data from a CSV file"
   ]
  },
  {
   "cell_type": "code",
   "execution_count": 4,
   "metadata": {},
   "outputs": [],
   "source": [
    "df = pd.read_csv('intraday_1min_MSFT.csv',parse_dates=[0])\n",
    "df.index = df['timestamp']\n",
    "del df['timestamp']"
   ]
  },
  {
   "cell_type": "markdown",
   "metadata": {},
   "source": [
    "### Step 3: Explore the data"
   ]
  },
  {
   "cell_type": "code",
   "execution_count": 5,
   "metadata": {},
   "outputs": [
    {
     "name": "stdout",
     "output_type": "stream",
     "text": [
      "<class 'pandas.core.frame.DataFrame'>\n",
      "DatetimeIndex: 100 entries, 2018-07-06 16:00:00 to 2018-07-06 14:21:00\n",
      "Data columns (total 5 columns):\n",
      "open      100 non-null float64\n",
      "high      100 non-null float64\n",
      "low       100 non-null float64\n",
      "close     100 non-null float64\n",
      "volume    100 non-null int64\n",
      "dtypes: float64(4), int64(1)\n",
      "memory usage: 4.7 KB\n"
     ]
    },
    {
     "data": {
      "text/html": [
       "<div>\n",
       "<style scoped>\n",
       "    .dataframe tbody tr th:only-of-type {\n",
       "        vertical-align: middle;\n",
       "    }\n",
       "\n",
       "    .dataframe tbody tr th {\n",
       "        vertical-align: top;\n",
       "    }\n",
       "\n",
       "    .dataframe thead th {\n",
       "        text-align: right;\n",
       "    }\n",
       "</style>\n",
       "<table border=\"1\" class=\"dataframe\">\n",
       "  <thead>\n",
       "    <tr style=\"text-align: right;\">\n",
       "      <th></th>\n",
       "      <th>open</th>\n",
       "      <th>high</th>\n",
       "      <th>low</th>\n",
       "      <th>close</th>\n",
       "      <th>volume</th>\n",
       "    </tr>\n",
       "    <tr>\n",
       "      <th>timestamp</th>\n",
       "      <th></th>\n",
       "      <th></th>\n",
       "      <th></th>\n",
       "      <th></th>\n",
       "      <th></th>\n",
       "    </tr>\n",
       "  </thead>\n",
       "  <tbody>\n",
       "    <tr>\n",
       "      <th>2018-07-06 16:00:00</th>\n",
       "      <td>101.1800</td>\n",
       "      <td>101.250</td>\n",
       "      <td>101.100</td>\n",
       "      <td>101.16</td>\n",
       "      <td>3036619</td>\n",
       "    </tr>\n",
       "    <tr>\n",
       "      <th>2018-07-06 15:59:00</th>\n",
       "      <td>101.1400</td>\n",
       "      <td>101.190</td>\n",
       "      <td>101.135</td>\n",
       "      <td>101.17</td>\n",
       "      <td>179669</td>\n",
       "    </tr>\n",
       "    <tr>\n",
       "      <th>2018-07-06 15:58:00</th>\n",
       "      <td>101.1550</td>\n",
       "      <td>101.190</td>\n",
       "      <td>101.110</td>\n",
       "      <td>101.14</td>\n",
       "      <td>104014</td>\n",
       "    </tr>\n",
       "    <tr>\n",
       "      <th>2018-07-06 15:57:00</th>\n",
       "      <td>101.1207</td>\n",
       "      <td>101.185</td>\n",
       "      <td>101.075</td>\n",
       "      <td>101.16</td>\n",
       "      <td>124452</td>\n",
       "    </tr>\n",
       "    <tr>\n",
       "      <th>2018-07-06 15:56:00</th>\n",
       "      <td>101.1050</td>\n",
       "      <td>101.150</td>\n",
       "      <td>101.080</td>\n",
       "      <td>101.12</td>\n",
       "      <td>118824</td>\n",
       "    </tr>\n",
       "  </tbody>\n",
       "</table>\n",
       "</div>"
      ],
      "text/plain": [
       "                         open     high      low   close   volume\n",
       "timestamp                                                       \n",
       "2018-07-06 16:00:00  101.1800  101.250  101.100  101.16  3036619\n",
       "2018-07-06 15:59:00  101.1400  101.190  101.135  101.17   179669\n",
       "2018-07-06 15:58:00  101.1550  101.190  101.110  101.14   104014\n",
       "2018-07-06 15:57:00  101.1207  101.185  101.075  101.16   124452\n",
       "2018-07-06 15:56:00  101.1050  101.150  101.080  101.12   118824"
      ]
     },
     "execution_count": 5,
     "metadata": {},
     "output_type": "execute_result"
    }
   ],
   "source": [
    "df.info()\n",
    "df.head()"
   ]
  },
  {
   "cell_type": "code",
   "execution_count": null,
   "metadata": {},
   "outputs": [],
   "source": [
    "%matplotlib inline\n",
    "import matplotlib.pyplot as plt\n",
    "df['close'].plot()"
   ]
  },
  {
   "cell_type": "code",
   "execution_count": 7,
   "metadata": {},
   "outputs": [
    {
     "data": {
      "text/html": [
       "<div>\n",
       "<style scoped>\n",
       "    .dataframe tbody tr th:only-of-type {\n",
       "        vertical-align: middle;\n",
       "    }\n",
       "\n",
       "    .dataframe tbody tr th {\n",
       "        vertical-align: top;\n",
       "    }\n",
       "\n",
       "    .dataframe thead th {\n",
       "        text-align: right;\n",
       "    }\n",
       "</style>\n",
       "<table border=\"1\" class=\"dataframe\">\n",
       "  <thead>\n",
       "    <tr style=\"text-align: right;\">\n",
       "      <th></th>\n",
       "      <th>open</th>\n",
       "      <th>high</th>\n",
       "      <th>low</th>\n",
       "      <th>close</th>\n",
       "      <th>volume</th>\n",
       "    </tr>\n",
       "    <tr>\n",
       "      <th>timestamp</th>\n",
       "      <th></th>\n",
       "      <th></th>\n",
       "      <th></th>\n",
       "      <th></th>\n",
       "      <th></th>\n",
       "    </tr>\n",
       "  </thead>\n",
       "  <tbody>\n",
       "    <tr>\n",
       "      <th>2018-07-06 14:00:00</th>\n",
       "      <td>101.061174</td>\n",
       "      <td>101.076387</td>\n",
       "      <td>101.048031</td>\n",
       "      <td>101.062792</td>\n",
       "      <td>1.868979e+04</td>\n",
       "    </tr>\n",
       "    <tr>\n",
       "      <th>2018-07-06 15:00:00</th>\n",
       "      <td>101.197410</td>\n",
       "      <td>101.227382</td>\n",
       "      <td>101.170488</td>\n",
       "      <td>101.198433</td>\n",
       "      <td>4.937635e+04</td>\n",
       "    </tr>\n",
       "    <tr>\n",
       "      <th>2018-07-06 16:00:00</th>\n",
       "      <td>101.180000</td>\n",
       "      <td>101.250000</td>\n",
       "      <td>101.100000</td>\n",
       "      <td>101.160000</td>\n",
       "      <td>3.036619e+06</td>\n",
       "    </tr>\n",
       "  </tbody>\n",
       "</table>\n",
       "</div>"
      ],
      "text/plain": [
       "                           open        high         low       close  \\\n",
       "timestamp                                                             \n",
       "2018-07-06 14:00:00  101.061174  101.076387  101.048031  101.062792   \n",
       "2018-07-06 15:00:00  101.197410  101.227382  101.170488  101.198433   \n",
       "2018-07-06 16:00:00  101.180000  101.250000  101.100000  101.160000   \n",
       "\n",
       "                           volume  \n",
       "timestamp                          \n",
       "2018-07-06 14:00:00  1.868979e+04  \n",
       "2018-07-06 15:00:00  4.937635e+04  \n",
       "2018-07-06 16:00:00  3.036619e+06  "
      ]
     },
     "execution_count": 7,
     "metadata": {},
     "output_type": "execute_result"
    }
   ],
   "source": [
    "df.resample('H').mean()"
   ]
  },
  {
   "cell_type": "markdown",
   "metadata": {},
   "source": [
    "### Generate and plot random time series  "
   ]
  },
  {
   "cell_type": "code",
   "execution_count": 56,
   "metadata": {},
   "outputs": [
    {
     "data": {
      "text/plain": [
       "<matplotlib.legend.Legend at 0x7f079f4beba8>"
      ]
     },
     "execution_count": 56,
     "metadata": {},
     "output_type": "execute_result"
    },
    {
     "data": {
      "text/plain": [
       "<Figure size 432x288 with 0 Axes>"
      ]
     },
     "metadata": {},
     "output_type": "display_data"
    },
    {
     "data": {
      "image/png": "[encoded data removed]",
      "text/plain": [
       "<Figure size 432x288 with 1 Axes>"
      ]
     },
     "metadata": {},
     "output_type": "display_data"
    }
   ],
   "source": [
    "rng = pd.date_range('1/1/2018 14:00', periods=240, freq='60S')\n",
    "df = pd.DataFrame(np.random.randn(len(rng), 4), index=rng, columns=list('ABCD'))\n",
    "df = df.cumsum()\n",
    "plt.figure(); df.plot(); plt.legend(loc='best')"
   ]
  },
  {
   "cell_type": "code",
   "execution_count": 50,
   "metadata": {},
   "outputs": [
    {
     "data": {
      "text/html": [
       "<div>\n",
       "<style scoped>\n",
       "    .dataframe tbody tr th:only-of-type {\n",
       "        vertical-align: middle;\n",
       "    }\n",
       "\n",
       "    .dataframe tbody tr th {\n",
       "        vertical-align: top;\n",
       "    }\n",
       "\n",
       "    .dataframe thead th {\n",
       "        text-align: right;\n",
       "    }\n",
       "</style>\n",
       "<table border=\"1\" class=\"dataframe\">\n",
       "  <thead>\n",
       "    <tr style=\"text-align: right;\">\n",
       "      <th></th>\n",
       "      <th>high</th>\n",
       "      <th>low</th>\n",
       "    </tr>\n",
       "  </thead>\n",
       "  <tbody>\n",
       "    <tr>\n",
       "      <th>2018-09-22 03:19:35</th>\n",
       "      <td>25.082517</td>\n",
       "      <td>28.258404</td>\n",
       "    </tr>\n",
       "    <tr>\n",
       "      <th>2018-09-22 03:19:40</th>\n",
       "      <td>26.303303</td>\n",
       "      <td>30.332901</td>\n",
       "    </tr>\n",
       "    <tr>\n",
       "      <th>2018-09-22 03:19:45</th>\n",
       "      <td>24.837130</td>\n",
       "      <td>28.939327</td>\n",
       "    </tr>\n",
       "    <tr>\n",
       "      <th>2018-09-22 03:19:50</th>\n",
       "      <td>24.054695</td>\n",
       "      <td>29.713711</td>\n",
       "    </tr>\n",
       "    <tr>\n",
       "      <th>2018-09-22 03:19:55</th>\n",
       "      <td>24.889503</td>\n",
       "      <td>30.316828</td>\n",
       "    </tr>\n",
       "  </tbody>\n",
       "</table>\n",
       "</div>"
      ],
      "text/plain": [
       "                          high        low\n",
       "2018-09-22 03:19:35  25.082517  28.258404\n",
       "2018-09-22 03:19:40  26.303303  30.332901\n",
       "2018-09-22 03:19:45  24.837130  28.939327\n",
       "2018-09-22 03:19:50  24.054695  29.713711\n",
       "2018-09-22 03:19:55  24.889503  30.316828"
      ]
     },
     "execution_count": 50,
     "metadata": {},
     "output_type": "execute_result"
    }
   ],
   "source": [
    "rng = pd.date_range('22/9/2018 02:30', periods=600, freq='5S')\n",
    "df = pd.DataFrame(np.random.randn(len(rng), 2), index=rng, columns=['high','low'])\n",
    "df = df.cumsum()\n",
    "df.tail()"
   ]
  },
  {
   "cell_type": "code",
   "execution_count": 40,
   "metadata": {},
   "outputs": [],
   "source": [
    "def getdf(name, lbl, size):\n",
    "    names = [name] * size\n",
    "    labels = [lbl] * size\n",
    "    vals = np.cumsum(np.random.randn(size))\n",
    "    times = [ 'now%dm' %i for i in range(-size ,0)]\n",
    "    return pd.DataFrame({'name':names, 'labels':labels, 'val': vals, 'time':  times})\n",
    "    \n",
    "dfs = [getdf(name,lbl,120) for name,lbl in [('cpu','node=1'),('mem','node=1'),('cpu','node=2'),('mem','node=2')]]\n",
    "df = pd.concat(dfs, ignore_index=True)\n",
    "df.head(20)\n",
    "df.to_csv('tsdbtst.csv', header=False, index=False)\n",
    "                  "
   ]
  },
  {
   "cell_type": "code",
   "execution_count": null,
   "metadata": {},
   "outputs": [],
   "source": [
    "%matplotlib inline\n",
    "#import matplotlib.pyplot as plt\n",
    "df.plot()"
   ]
  },
  {
   "cell_type": "code",
   "execution_count": null,
   "metadata": {},
   "outputs": [],
   "source": []
  }
 ],
 "metadata": {
  "kernelspec": {
   "display_name": "Python 3",
   "language": "python",
   "name": "python3"
  },
  "language_info": {
   "codemirror_mode": {
    "name": "ipython",
    "version": 3
   },
   "file_extension": ".py",
   "mimetype": "text/x-python",
   "name": "python",
   "nbconvert_exporter": "python",
   "pygments_lexer": "ipython3",
   "version": "3.6.3"
  }
 },
 "nbformat": 4,
 "nbformat_minor": 2
}
