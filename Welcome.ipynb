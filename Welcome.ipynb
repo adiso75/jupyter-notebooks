{
 "cells": [
  {
   "cell_type": "markdown",
   "metadata": {},
   "source": [
    "# Getting Started With Jupyter on Iguazio Data Platform"
   ]
  },
  {
   "cell_type": "markdown",
   "metadata": {},
   "source": [
    "## Iguazio platform overview\n",
    "\n",
    "iguazio data platform enables fast delivery of intelligent real-time and event driven applications, and is comprised of the following layers:\n",
    "* User development and access services: nuclio real-time serverless functions, Jupyter notebooks and Real-time dashboards (based on Grafana)\n",
    "* Data and api services: host pre-integrated services such as Spark, Presto, Web APIs, etc. \n",
    "* high-performance unified database: allow simultanious access through multiple standard/open APIs and data models(file, object, SQL, NoSQL, stream, time-series). \n",
    "\n",
    "Iguazio platform is a fully managed PaaS over Kubernetes with security, user management, logging and monitoring. <br>\n",
    "It can be deployed in the public cloud, on-prem datacenter, or be delivered as an Edge appliance.  "
   ]
  },
  {
   "cell_type": "markdown",
   "metadata": {},
   "source": [
    "## Notebook basics\n",
    "\n",
    "The Jupyter lab notebook has a browser section (on the left) and content tabs (on the right), the tabs allow to view/edit/run notebooks, interactive sell and common file types. to create a new code or shell tab click the `+` icon on the upper left corner or via the top menu. <br>\n",
    "\n",
    "The file browser points to 2 child directories `home` and `v3io`, the home directory is a private and persistent user space to store the user files and notebooks, the v3io directory allow accessing to the shared data containers on iguazio platform, a user access to the `v3io` data containers can be restricted by the administrator through the data container access policies. <br>\n",
    "Data resides under the v3io folder can be viewed via iguazio dashboard as well\n",
    "\n",
    "> *Note:* data stored in the path above the `home` and `v3io` is for temporary use and may be deleted occasionaly "
   ]
  },
  {
   "cell_type": "markdown",
   "metadata": {},
   "source": [
    "## Accesing data from your notebook\n",
    "\n",
    "Iguazio platform provide multiple data models and APIs, enabeling maximum flexibility<br>\n",
    "The same structured data can be accessed or updated using different semantics simultaniously<br>\n",
    "see the following list and examples for the different access models and APIs:\n",
    "\n",
    "* [Basic files and objects operations](FilesAccess.ipynb) \n",
    "* [Access data via Spark and SQL (presto)](spark-nov13.ipynb)\n",
    "* [Native data frames API](frames.ipynb) (for high-performance columnar access) \n",
    "    * Key/value \n",
    "    * Time-series\n",
    "    * Stream\n",
    "* [Reading and Writing to Parquet files](parquet.ipynb)\n",
    "* [Reading from external databases](ReadingFromExternalDB.ipynb)\n",
    "    "
   ]
  },
  {
   "cell_type": "markdown",
   "metadata": {},
   "source": [
    "## Tutorials and links\n",
    "\n",
    "* [Getting started notebook](GettingStarted.ipynb)\n",
    "* [10 Minutes to pandas]()\n",
    "* [Jupyter lab tutorial](https://jupyterlab.readthedocs.io/en/stable/)\n"
   ]
  },
  {
   "cell_type": "code",
   "execution_count": null,
   "metadata": {},
   "outputs": [],
   "source": []
  },
  {
   "cell_type": "markdown",
   "metadata": {},
   "source": [
    "## Command line and shell unilities\n",
    "Command line utilities can be used from a `Terminal` tab or by adding the `!` prefix in a notebook cell<br>\n",
    "full help can be used by typing the command followed by `-h` or `--help`\n",
    "\n",
    "The following commands are available:\n",
    "* `tsdbctl` - iguazio TSDB utility for creating and managing TSDB tabels\n",
    "* `v3ctl` - iguazio utility exposing all the Web API calls through simple commands (object, K/V, Stream)\n",
    "* `pyspark` -\n"
   ]
  },
  {
   "cell_type": "code",
   "execution_count": null,
   "metadata": {},
   "outputs": [],
   "source": []
  }
 ],
 "metadata": {
  "kernelspec": {
   "display_name": "Python 3",
   "language": "python",
   "name": "python3"
  },
  "language_info": {
   "codemirror_mode": {
    "name": "ipython",
    "version": 3
   },
   "file_extension": ".py",
   "mimetype": "text/x-python",
   "name": "python",
   "nbconvert_exporter": "python",
   "pygments_lexer": "ipython3",
   "version": "3.6.6"
  }
 },
 "nbformat": 4,
 "nbformat_minor": 2
}
