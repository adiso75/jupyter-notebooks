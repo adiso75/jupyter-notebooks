{
 "cells": [
  {
   "cell_type": "markdown",
   "metadata": {},
   "source": [
    "# Example: Ingest Real-Time Stock Data to iguazio NoSQL and TSDB\n",
    "the following example function ingest real-time stock information from an internet service (World Trading Data) into iguazio platform.<br>\n",
    "everytime the data is updated it updates a NoSQL table with the recent metadata and updates the TSDB with the new metrics (price and volume)\n",
    "\n",
    "The same code can run inside a nuclio (serverless) function and be automatically triggered on a predefined schedule (cron) or through HTTP requests\n",
    "\n",
    "## Initialization (not requiered in nuclio)\n",
    "need to fill the following environment variables with real credentials.<br>\n",
    "```\n",
    "    API_TOKEN = <WorldTradingData API Token>\n",
    "    V3IO_PASSWORD = <V3IO-Password>\n",
    "    V3IO_USER = <V3IO-Username>\n",
    "    V3IO_ADDRESS = <address of V3IO API end point>\n",
    "    FRAMESD_URL = <V3IO Framesd URL (Columnar & TSDB API)>\n",
    "```\n",
    "obtain your free API token from [World Trading Data](https://www.worldtradingdata.com) <br>\n",
    "> note: in nuclio environment variables and build dependencies are specified in the configuration tab, for notebooks they can be initialized from a file as implemented below.\n",
    "\n",
    "### initialize nuclio emulation (this section will be ignored by nuclio nbconvert)"
   ]
  },
  {
   "cell_type": "code",
   "execution_count": 1,
   "metadata": {},
   "outputs": [],
   "source": [
    "# nuclio: ignore\n",
    "from nuclio import Context, Event\n",
    "from v3io import env_fromfile\n",
    "env_fromfile('stock_env.txt')\n",
    "context = Context()"
   ]
  },
  {
   "cell_type": "markdown",
   "metadata": {},
   "source": [
    "## Nuclio function implementation\n",
    "this function can run in Jupyter or in nuclio (real-time serverless)"
   ]
  },
  {
   "cell_type": "code",
   "execution_count": 2,
   "metadata": {},
   "outputs": [],
   "source": [
    "import json\n",
    "import v3io\n",
    "import requests\n",
    "import os\n",
    "import pandas as pd\n",
    "import datetime\n",
    "import v3io_frames as v3f\n",
    "\n",
    "stocks = os.getenv('STOCK_LIST','GOOG,MSFT,AMZN,IBM,ORCL')\n",
    "token = os.getenv('API_TOKEN') \n",
    "url = 'https://www.worldtradingdata.com/api/v1/stock?symbol={0}&api_token={1}'.format(stocks,token)\n",
    "v3 = v3io.v3io(os.getenv('V3IO_ADDRESS'),os.getenv('V3IO_USER'),os.getenv('V3IO_PASSWORD'), 'bigdata')\n",
    "client = v3f.Client()\n",
    "\n",
    "# v3io update expression template \n",
    "expr_template = \"symbol='{symbol}';name='{name}';currency='{currency}';exchange='{stock_exchange_short}';\" + \\\n",
    "    \"timezone='{timezone}';price={price};volume={volume};last_trade='{last_trade_time}'\"\n",
    "\n",
    "last_trade_times = {}\n",
    "\n",
    "# nuclio habdler fuction \n",
    "def handler(context, event):\n",
    "    \n",
    "    # reading latest stock information \n",
    "    r = requests.get(url)\n",
    "    stocks = []\n",
    "    dates = []\n",
    "    volumes = []\n",
    "    prices = []\n",
    "    \n",
    "    for stock in r.json()['data']:\n",
    "        \n",
    "        symbol = stock['symbol']\n",
    "        last = last_trade_times.get(symbol)\n",
    "        date = datetime.datetime.strptime(stock['last_trade_time'], '%Y-%m-%d %H:%M:%S')\n",
    "        \n",
    "        # update the stocks table and TSDB metrics in case of new data \n",
    "        if not last or date > last:\n",
    "            # update NoSQL table with stock data\n",
    "            expr = expr_template.format(**stock)\n",
    "            context.logger.debug_with('update expression', symbol=symbol, expr=expr)\n",
    "            v3.updateitem('stocks',symbol, expr, '')\n",
    "        \n",
    "            # update time-series DB with price and volume metrics (use pandas dataframe with a single row, indexed by date)\n",
    "            last_trade_times[symbol] = date \n",
    "            stocks += [symbol]\n",
    "            dates +=[date]\n",
    "            volumes += [float(stock['volume'])]\n",
    "            prices += [float(stock['price'])]\n",
    "               \n",
    "    # write price and volume metrics to the Time-Series DB\n",
    "    if len(stocks)>0:\n",
    "        df = pd.DataFrame({'volume':volumes,'price': prices}, index=[dates,stocks], columns=['volume','price'])\n",
    "        df.index.names=['time','symbol']\n",
    "        context.logger.debug_with('writing data to TSDB', stocks=stocks)\n",
    "        client.write(backend='tsdb', table='stock_metrics',dfs=df)\n",
    "        \n",
    "    return r.json()"
   ]
  },
  {
   "cell_type": "markdown",
   "metadata": {},
   "source": [
    "## Function invocation\n",
    "the following section simulates nuclio function invocation"
   ]
  },
  {
   "cell_type": "code",
   "execution_count": 3,
   "metadata": {},
   "outputs": [
    {
     "name": "stdout",
     "output_type": "stream",
     "text": [
      "2018-10-26 00:15:44,024 nuclio (D) update expression {\"symbol\": \"AMZN\", \"expr\": \"symbol='AMZN';name='Amazon.com, Inc.';currency='USD';exchange='NASDAQ';timezone='EDT';price=1782.17;volume=9508483;last_trade='2018-10-25 16:00:02'\"}\n",
      "2018-10-26 00:15:44,208 nuclio (D) update expression {\"symbol\": \"GOOG\", \"expr\": \"symbol='GOOG';name='Alphabet Inc Class C';currency='USD';exchange='NASDAQ';timezone='EDT';price=1095.57;volume=2452049;last_trade='2018-10-25 16:00:03'\"}\n",
      "2018-10-26 00:15:44,390 nuclio (D) update expression {\"symbol\": \"IBM\", \"expr\": \"symbol='IBM';name='IBM Common Stock';currency='USD';exchange='NYSE';timezone='EDT';price=126.45;volume=10241580;last_trade='2018-10-25 16:02:15'\"}\n",
      "2018-10-26 00:15:44,559 nuclio (D) update expression {\"symbol\": \"MSFT\", \"expr\": \"symbol='MSFT';name='Microsoft Corporation';currency='USD';exchange='NASDAQ';timezone='EDT';price=108.30;volume=61093099;last_trade='2018-10-25 16:00:02'\"}\n",
      "2018-10-26 00:15:44,739 nuclio (D) update expression {\"symbol\": \"ORCL\", \"expr\": \"symbol='ORCL';name='Oracle Corporation';currency='USD';exchange='NYSE';timezone='EDT';price=47.96;volume=19322039;last_trade='2018-10-25 16:03:38'\"}\n",
      "2018-10-26 00:15:44,917 nuclio (D) writing data to TSDB {\"stocks\": [\"AMZN\", \"GOOG\", \"IBM\", \"MSFT\", \"ORCL\"]}\n"
     ]
    }
   ],
   "source": [
    "event = Event(body='')\n",
    "resp = handler(context, event)"
   ]
  },
  {
   "cell_type": "code",
   "execution_count": null,
   "metadata": {},
   "outputs": [],
   "source": []
  }
 ],
 "metadata": {
  "kernelspec": {
   "display_name": "Python 3",
   "language": "python",
   "name": "python3"
  },
  "language_info": {
   "codemirror_mode": {
    "name": "ipython",
    "version": 3
   },
   "file_extension": ".py",
   "mimetype": "text/x-python",
   "name": "python",
   "nbconvert_exporter": "python",
   "pygments_lexer": "ipython3",
   "version": "3.6.5"
  },
  "toc-autonumbering": false
 },
 "nbformat": 4,
 "nbformat_minor": 2
}
