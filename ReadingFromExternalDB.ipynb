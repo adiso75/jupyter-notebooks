{
 "cells": [
  {
   "cell_type": "markdown",
   "metadata": {},
   "source": [
    "# loading data from MySQL"
   ]
  },
  {
   "cell_type": "code",
   "execution_count": null,
   "metadata": {},
   "outputs": [],
   "source": [
    "!pip install pymysql "
   ]
  },
  {
   "cell_type": "markdown",
   "metadata": {},
   "source": [
    "Set the database connection. in this example we are using a public mysql database called Rfam (https://rfam.readthedocs.io/en/latest/database.html)<br>\n",
    "Then run the sql and keep the result into the dataframe"
   ]
  },
  {
   "cell_type": "code",
   "execution_count": 2,
   "metadata": {},
   "outputs": [],
   "source": [
    "import os\n",
    "import pymysql\n",
    "import pandas as pd\n",
    "\n",
    "host = os.getenv('mysql-rfam-public.ebi.ac.uk')\n",
    "port = os.getenv('4497')\n",
    "user = os.getenv('rfamro')\n",
    "password = os.getenv('')\n",
    "database = os.getenv('Rfam ')\n",
    "\n",
    "conn = pymysql.connect(\n",
    "    host=\"mysql-rfam-public.ebi.ac.uk\",\n",
    "    port=int(4497),\n",
    "    user=\"rfamro\",\n",
    "    passwd=password,\n",
    "    db=\"Rfam\",\n",
    "    charset='utf8mb4')\n",
    "\n",
    "df = pd.read_sql_query(\"select rfam_acc,rfam_id,auto_wiki,description,author,seed_source  FROM family\",\n",
    "    conn) \n",
    "\n",
    "\n",
    "#df.tail(10)\n",
    "#df.describe()\n",
    "#df.info()\n",
    "\n"
   ]
  },
  {
   "cell_type": "code",
   "execution_count": 3,
   "metadata": {},
   "outputs": [],
   "source": [
    "import pandas as pd\n",
    "import v3io_frames as v3f\n",
    "client = v3f.Client('http://v3io-framesd:8080')\n",
    "tablename = 'examples/family'"
   ]
  },
  {
   "cell_type": "markdown",
   "metadata": {},
   "source": [
    "Ingesting data into the database using NoSQL API"
   ]
  },
  {
   "cell_type": "code",
   "execution_count": 4,
   "metadata": {},
   "outputs": [],
   "source": [
    "out = client.write('kv', tablename, df)"
   ]
  },
  {
   "cell_type": "markdown",
   "metadata": {},
   "source": [
    "## Remove Data"
   ]
  },
  {
   "cell_type": "code",
   "execution_count": 5,
   "metadata": {},
   "outputs": [],
   "source": [
    "!rm -rf /v3io/bigdata/examples/family"
   ]
  },
  {
   "cell_type": "code",
   "execution_count": null,
   "metadata": {},
   "outputs": [],
   "source": []
  }
 ],
 "metadata": {
  "kernelspec": {
   "display_name": "Python 3",
   "language": "python",
   "name": "python3"
  },
  "language_info": {
   "codemirror_mode": {
    "name": "ipython",
    "version": 3
   },
   "file_extension": ".py",
   "mimetype": "text/x-python",
   "name": "python",
   "nbconvert_exporter": "python",
   "pygments_lexer": "ipython3",
   "version": "3.6.6"
  }
 },
 "nbformat": 4,
 "nbformat_minor": 2
}
